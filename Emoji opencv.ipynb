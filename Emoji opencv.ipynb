{
 "cells": [
  {
   "cell_type": "code",
   "execution_count": 1,
   "metadata": {},
   "outputs": [],
   "source": [
    "import cv2 as cv\n",
    "import matplotlib.pyplot as plt\n",
    "import numpy as np"
   ]
  },
  {
   "cell_type": "code",
   "execution_count": 2,
   "metadata": {},
   "outputs": [
    {
     "data": {
      "text/plain": [
       "-1"
      ]
     },
     "execution_count": 2,
     "metadata": {},
     "output_type": "execute_result"
    }
   ],
   "source": [
    "blank=np.zeros(shape=[600,400,3],dtype=np.uint8)\n",
    "blank[:]=(255,255,200)\n",
    "circle1=cv.circle(blank,(200,120),80,(0,255,255),cv.FILLED)\n",
    "ellipse=cv.ellipse(blank,(165,70),(0,13),85,0,360,(0,0,0),2)\n",
    "ellipse1=cv.ellipse(blank,(235,70),(0,13),275,0,360,(0,0,0),2)\n",
    "circle2=cv.circle(blank,(165,95),20,(255,255,255),cv.FILLED)\n",
    "circle3=cv.circle(blank,(235,95),20,(255,255,255),cv.FILLED)\n",
    "circle4=cv.circle(blank,(165,95),9,(0,0,0),cv.FILLED)\n",
    "circle5=cv.circle(blank,(235,95),9,(0,0,0),cv.FILLED)\n",
    "mouth=cv.ellipse(blank,(200,150),(25,30),90,0,360,(25,100,180),cv.FILLED)\n",
    "emoji=cv.putText(blank,\"Suprized Faced emoji\",(24,24),cv.FONT_HERSHEY_SIMPLEX,1,(0,0,0),2)\n",
    "cv.imshow('circle',emoji)\n",
    "\n",
    "circle1=cv.circle(blank,(200,420),80,(0,255,255),cv.FILLED)\n",
    "circle2=cv.circle(blank,(165,405),20,(255,255,255),cv.FILLED)\n",
    "circle3=cv.circle(blank,(235,405),20,(255,255,255),cv.FILLED)\n",
    "circle4=cv.circle(blank,(165,390),9,(0,0,0),cv.FILLED)\n",
    "circle5=cv.circle(blank,(235,390),9,(0,0,0),cv.FILLED)\n",
    "mouth=cv.line(blank,(165,450),(235,450),(25,100,180),3)\n",
    "emoji=cv.putText(blank,\"Eye Roll emoji\",(90,305),cv.FONT_HERSHEY_SIMPLEX,1,(0,0,0),2)\n",
    "cv.imshow('circle',emoji)\n",
    "cv.waitKey(0)"
   ]
  },
  {
   "cell_type": "code",
   "execution_count": null,
   "metadata": {},
   "outputs": [],
   "source": []
  }
 ],
 "metadata": {
  "kernelspec": {
   "display_name": "Python 3.10.6 64-bit (windows store)",
   "language": "python",
   "name": "python3"
  },
  "language_info": {
   "codemirror_mode": {
    "name": "ipython",
    "version": 3
   },
   "file_extension": ".py",
   "mimetype": "text/x-python",
   "name": "python",
   "nbconvert_exporter": "python",
   "pygments_lexer": "ipython3",
   "version": "3.10.6"
  },
  "orig_nbformat": 4,
  "vscode": {
   "interpreter": {
    "hash": "e5bd2560be698302b2c4e2049e481d6c8eaa2d0d55a9ebde5fdfc2bf3b6a5822"
   }
  }
 },
 "nbformat": 4,
 "nbformat_minor": 2
}
